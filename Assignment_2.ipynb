{
  "nbformat": 4,
  "nbformat_minor": 0,
  "metadata": {
    "colab": {
      "name": "Assignment_2.ipynb",
      "provenance": [],
      "mount_file_id": "1ZgA-Gbz-7P5oLYmhxENCwMkgd69PG9uh",
      "authorship_tag": "ABX9TyPs8gGjtUz4Tz4N8dmOznku",
      "include_colab_link": true
    },
    "kernelspec": {
      "name": "python3",
      "display_name": "Python 3"
    },
    "accelerator": "GPU"
  },
  "cells": [
    {
      "cell_type": "markdown",
      "metadata": {
        "id": "view-in-github",
        "colab_type": "text"
      },
      "source": [
        "<a href=\"https://colab.research.google.com/github/ZManani/Multi-class-sentiment-analysis/blob/master/Assignment_2.ipynb\" target=\"_parent\"><img src=\"https://colab.research.google.com/assets/colab-badge.svg\" alt=\"Open In Colab\"/></a>"
      ]
    },
    {
      "cell_type": "code",
      "metadata": {
        "id": "S_WsM5Htd_p2",
        "colab_type": "code",
        "outputId": "8eb6485d-72a0-4ad4-e697-16b24d158e44",
        "colab": {
          "base_uri": "https://localhost:8080/",
          "height": 134
        }
      },
      "source": [
        "import tensorflow.compat.v1 as tf\n",
        "tf.disable_v2_behavior()\n",
        "import pandas as pd\n",
        "from sklearn.model_selection import train_test_split\n",
        "import numpy as np\n",
        "import seaborn as sns\n",
        "import matplotlib.pyplot as plt\n",
        "from keras.preprocessing import sequence,text\n",
        "from keras.preprocessing.text import Tokenizer\n",
        "from keras.models import Sequential\n",
        "from keras.layers import Input, Dense, Embedding, Flatten\n",
        "from keras.layers import SpatialDropout1D\n",
        "from keras.layers.convolutional import Conv1D, MaxPooling1D\n",
        "from keras.models import Sequential\n",
        "sns.set(color_codes=True)\n",
        "\n",
        "import nltk \n",
        "import random \n",
        "from nltk.tokenize import word_tokenize\n",
        "nltk.download('punkt') \n",
        "nltk.download('stopwords') \n",
        "#nltk.download('movie_reviews') \n",
        "nltk.download('wordnet') "
      ],
      "execution_count": 60,
      "outputs": [
        {
          "output_type": "stream",
          "text": [
            "[nltk_data] Downloading package punkt to /root/nltk_data...\n",
            "[nltk_data]   Package punkt is already up-to-date!\n",
            "[nltk_data] Downloading package stopwords to /root/nltk_data...\n",
            "[nltk_data]   Package stopwords is already up-to-date!\n",
            "[nltk_data] Downloading package wordnet to /root/nltk_data...\n",
            "[nltk_data]   Package wordnet is already up-to-date!\n"
          ],
          "name": "stdout"
        },
        {
          "output_type": "execute_result",
          "data": {
            "text/plain": [
              "True"
            ]
          },
          "metadata": {
            "tags": []
          },
          "execution_count": 60
        }
      ]
    },
    {
      "cell_type": "code",
      "metadata": {
        "id": "h5562UNA-z8U",
        "colab_type": "code",
        "outputId": "d2bc98ce-2c4a-4814-ca03-c386a291c19f",
        "colab": {
          "base_uri": "https://localhost:8080/",
          "height": 195
        }
      },
      "source": [
        "import csv\n",
        "import urllib.request as urllib2\n",
        "import matplotlib.pyplot as plt\n",
        "from nltk import FreqDist\n",
        "import pandas as pd\n",
        "url = 'https://raw.githubusercontent.com/cacoderquan/Sentiment-Analysis-on-the-Rotten-Tomatoes-movie-review-dataset/master/train.tsv'\n",
        "response = urllib2.urlopen(url)\n",
        "df = pd.read_csv(response,delimiter='\\t',encoding='utf-8')\n",
        "df.head()"
      ],
      "execution_count": 61,
      "outputs": [
        {
          "output_type": "execute_result",
          "data": {
            "text/html": [
              "<div>\n",
              "<style scoped>\n",
              "    .dataframe tbody tr th:only-of-type {\n",
              "        vertical-align: middle;\n",
              "    }\n",
              "\n",
              "    .dataframe tbody tr th {\n",
              "        vertical-align: top;\n",
              "    }\n",
              "\n",
              "    .dataframe thead th {\n",
              "        text-align: right;\n",
              "    }\n",
              "</style>\n",
              "<table border=\"1\" class=\"dataframe\">\n",
              "  <thead>\n",
              "    <tr style=\"text-align: right;\">\n",
              "      <th></th>\n",
              "      <th>PhraseId</th>\n",
              "      <th>SentenceId</th>\n",
              "      <th>Phrase</th>\n",
              "      <th>Sentiment</th>\n",
              "    </tr>\n",
              "  </thead>\n",
              "  <tbody>\n",
              "    <tr>\n",
              "      <th>0</th>\n",
              "      <td>1</td>\n",
              "      <td>1</td>\n",
              "      <td>A series of escapades demonstrating the adage ...</td>\n",
              "      <td>1</td>\n",
              "    </tr>\n",
              "    <tr>\n",
              "      <th>1</th>\n",
              "      <td>2</td>\n",
              "      <td>1</td>\n",
              "      <td>A series of escapades demonstrating the adage ...</td>\n",
              "      <td>2</td>\n",
              "    </tr>\n",
              "    <tr>\n",
              "      <th>2</th>\n",
              "      <td>3</td>\n",
              "      <td>1</td>\n",
              "      <td>A series</td>\n",
              "      <td>2</td>\n",
              "    </tr>\n",
              "    <tr>\n",
              "      <th>3</th>\n",
              "      <td>4</td>\n",
              "      <td>1</td>\n",
              "      <td>A</td>\n",
              "      <td>2</td>\n",
              "    </tr>\n",
              "    <tr>\n",
              "      <th>4</th>\n",
              "      <td>5</td>\n",
              "      <td>1</td>\n",
              "      <td>series</td>\n",
              "      <td>2</td>\n",
              "    </tr>\n",
              "  </tbody>\n",
              "</table>\n",
              "</div>"
            ],
            "text/plain": [
              "   PhraseId  ...  Sentiment\n",
              "0         1  ...          1\n",
              "1         2  ...          2\n",
              "2         3  ...          2\n",
              "3         4  ...          2\n",
              "4         5  ...          2\n",
              "\n",
              "[5 rows x 4 columns]"
            ]
          },
          "metadata": {
            "tags": []
          },
          "execution_count": 61
        }
      ]
    },
    {
      "cell_type": "code",
      "metadata": {
        "id": "y5xEwiQH_QXW",
        "colab_type": "code",
        "outputId": "63c71ab6-c3e2-43b8-a469-e582dcc68079",
        "colab": {
          "base_uri": "https://localhost:8080/",
          "height": 195
        }
      },
      "source": [
        "df = df.sample(frac=1).reset_index(drop=True)\n",
        "df.head()"
      ],
      "execution_count": 62,
      "outputs": [
        {
          "output_type": "execute_result",
          "data": {
            "text/html": [
              "<div>\n",
              "<style scoped>\n",
              "    .dataframe tbody tr th:only-of-type {\n",
              "        vertical-align: middle;\n",
              "    }\n",
              "\n",
              "    .dataframe tbody tr th {\n",
              "        vertical-align: top;\n",
              "    }\n",
              "\n",
              "    .dataframe thead th {\n",
              "        text-align: right;\n",
              "    }\n",
              "</style>\n",
              "<table border=\"1\" class=\"dataframe\">\n",
              "  <thead>\n",
              "    <tr style=\"text-align: right;\">\n",
              "      <th></th>\n",
              "      <th>PhraseId</th>\n",
              "      <th>SentenceId</th>\n",
              "      <th>Phrase</th>\n",
              "      <th>Sentiment</th>\n",
              "    </tr>\n",
              "  </thead>\n",
              "  <tbody>\n",
              "    <tr>\n",
              "      <th>0</th>\n",
              "      <td>129595</td>\n",
              "      <td>6968</td>\n",
              "      <td>, fits the bill perfectly</td>\n",
              "      <td>4</td>\n",
              "    </tr>\n",
              "    <tr>\n",
              "      <th>1</th>\n",
              "      <td>109613</td>\n",
              "      <td>5807</td>\n",
              "      <td>a praiseworthy attempt to generate suspense ra...</td>\n",
              "      <td>4</td>\n",
              "    </tr>\n",
              "    <tr>\n",
              "      <th>2</th>\n",
              "      <td>9182</td>\n",
              "      <td>383</td>\n",
              "      <td>of talented thesps</td>\n",
              "      <td>2</td>\n",
              "    </tr>\n",
              "    <tr>\n",
              "      <th>3</th>\n",
              "      <td>6764</td>\n",
              "      <td>270</td>\n",
              "      <td>have rarely</td>\n",
              "      <td>2</td>\n",
              "    </tr>\n",
              "    <tr>\n",
              "      <th>4</th>\n",
              "      <td>102203</td>\n",
              "      <td>5378</td>\n",
              "      <td>see this delightful comedy</td>\n",
              "      <td>4</td>\n",
              "    </tr>\n",
              "  </tbody>\n",
              "</table>\n",
              "</div>"
            ],
            "text/plain": [
              "   PhraseId  ...  Sentiment\n",
              "0    129595  ...          4\n",
              "1    109613  ...          4\n",
              "2      9182  ...          2\n",
              "3      6764  ...          2\n",
              "4    102203  ...          4\n",
              "\n",
              "[5 rows x 4 columns]"
            ]
          },
          "metadata": {
            "tags": []
          },
          "execution_count": 62
        }
      ]
    },
    {
      "cell_type": "code",
      "metadata": {
        "id": "JhGlb3hP_RW-",
        "colab_type": "code",
        "outputId": "a5d34605-41c2-41c2-baed-389390a48798",
        "colab": {
          "base_uri": "https://localhost:8080/",
          "height": 34
        }
      },
      "source": [
        "X_train, X_test, Y_train, Y_test = train_test_split(df ['Phrase'], df ['Sentiment'], test_size=0.3, random_state=2003)\n",
        "documents=[]\n",
        "X_train = np.array(X_train.values.tolist())\n",
        "Y_train = np.array(Y_train.values.tolist())\n",
        "\n",
        "\n",
        "for i in range(len(X_train)):\n",
        "  documents.append([list(word_tokenize(X_train[i])), Y_train[i]]) \n",
        "\n",
        "X_test = np.array(X_test.values.tolist())\n",
        "Y_test = np.array(Y_test.values.tolist())\n",
        "for i in range(len(X_test)):\n",
        "  documents.append([list(word_tokenize(X_test[i])), Y_test[i]]) \n",
        "\n",
        "documents[0]"
      ],
      "execution_count": 63,
      "outputs": [
        {
          "output_type": "execute_result",
          "data": {
            "text/plain": [
              "[['decent', 'performances'], 3]"
            ]
          },
          "metadata": {
            "tags": []
          },
          "execution_count": 63
        }
      ]
    },
    {
      "cell_type": "code",
      "metadata": {
        "id": "rfGrAZZ4_ZGW",
        "colab_type": "code",
        "colab": {}
      },
      "source": [
        "from nltk.corpus import stopwords \n",
        "from nltk.stem import WordNetLemmatizer, PorterStemmer, LancasterStemmer \n",
        "porter = PorterStemmer() \n",
        "lancaster=LancasterStemmer() \n",
        "wordnet_lemmatizer = WordNetLemmatizer() \n",
        "stopwords_en = stopwords.words(\"english\") \n",
        "punctuations=\"?:!.,;'\\\"-()\"\n",
        "remove_stopwords = True\n",
        "useStemming = False\n",
        "useLemma = False\n",
        "removePuncs = True"
      ],
      "execution_count": 0,
      "outputs": []
    },
    {
      "cell_type": "code",
      "metadata": {
        "id": "b5zHhah5_g-Z",
        "colab_type": "code",
        "outputId": "86d63c32-0592-472e-c60a-3cd21e26867e",
        "colab": {
          "base_uri": "https://localhost:8080/",
          "height": 34
        }
      },
      "source": [
        "for l in range(len(documents)):\n",
        "  label = documents[l][1]\n",
        "  tmpReview = []\n",
        "  for w in documents[l][0]:\n",
        "    newWord = w\n",
        "    if remove_stopwords and (w in stopwords_en):\n",
        "      continue\n",
        "    if removePuncs and (w in punctuations): \n",
        "      continue\n",
        "    if useStemming:\n",
        "      newWord = lancaster.stem(newWord)\n",
        "    if useLemma: \n",
        "      newWord = wordnet_lemmatizer.lemmatize(newWord)\n",
        "    tmpReview.append(newWord)\n",
        "  documents[l] = (tmpReview, label)\n",
        "  documents[l] = (' '.join(tmpReview), label) \n",
        "\n",
        "print(documents[0])\n",
        "    "
      ],
      "execution_count": 66,
      "outputs": [
        {
          "output_type": "stream",
          "text": [
            "('decent performances', 3)\n"
          ],
          "name": "stdout"
        }
      ]
    },
    {
      "cell_type": "code",
      "metadata": {
        "id": "yPgPr4MiAgJv",
        "colab_type": "code",
        "outputId": "7e48a82c-3b54-4084-f716-23ef849d26f5",
        "colab": {
          "base_uri": "https://localhost:8080/",
          "height": 195
        }
      },
      "source": [
        "df = pd.DataFrame(documents, columns=['text', 'sentiment']) \n",
        "df.head()"
      ],
      "execution_count": 67,
      "outputs": [
        {
          "output_type": "execute_result",
          "data": {
            "text/html": [
              "<div>\n",
              "<style scoped>\n",
              "    .dataframe tbody tr th:only-of-type {\n",
              "        vertical-align: middle;\n",
              "    }\n",
              "\n",
              "    .dataframe tbody tr th {\n",
              "        vertical-align: top;\n",
              "    }\n",
              "\n",
              "    .dataframe thead th {\n",
              "        text-align: right;\n",
              "    }\n",
              "</style>\n",
              "<table border=\"1\" class=\"dataframe\">\n",
              "  <thead>\n",
              "    <tr style=\"text-align: right;\">\n",
              "      <th></th>\n",
              "      <th>text</th>\n",
              "      <th>sentiment</th>\n",
              "    </tr>\n",
              "  </thead>\n",
              "  <tbody>\n",
              "    <tr>\n",
              "      <th>0</th>\n",
              "      <td>decent performances</td>\n",
              "      <td>3</td>\n",
              "    </tr>\n",
              "    <tr>\n",
              "      <th>1</th>\n",
              "      <td>believe</td>\n",
              "      <td>2</td>\n",
              "    </tr>\n",
              "    <tr>\n",
              "      <th>2</th>\n",
              "      <td>spectacle pacing</td>\n",
              "      <td>2</td>\n",
              "    </tr>\n",
              "    <tr>\n",
              "      <th>3</th>\n",
              "      <td>rhapsodic dialogue jumps page memorable charac...</td>\n",
              "      <td>4</td>\n",
              "    </tr>\n",
              "    <tr>\n",
              "      <th>4</th>\n",
              "      <td>entry</td>\n",
              "      <td>2</td>\n",
              "    </tr>\n",
              "  </tbody>\n",
              "</table>\n",
              "</div>"
            ],
            "text/plain": [
              "                                                text  sentiment\n",
              "0                                decent performances          3\n",
              "1                                            believe          2\n",
              "2                                   spectacle pacing          2\n",
              "3  rhapsodic dialogue jumps page memorable charac...          4\n",
              "4                                              entry          2"
            ]
          },
          "metadata": {
            "tags": []
          },
          "execution_count": 67
        }
      ]
    },
    {
      "cell_type": "code",
      "metadata": {
        "id": "tamED5BdAlG1",
        "colab_type": "code",
        "colab": {}
      },
      "source": [
        "X_train, X_test, Y_train, Y_test = train_test_split(df['text'],  df['sentiment'], test_size=0.3, random_state=2003)"
      ],
      "execution_count": 0,
      "outputs": []
    },
    {
      "cell_type": "code",
      "metadata": {
        "id": "_iyN8zezAs2K",
        "colab_type": "code",
        "colab": {}
      },
      "source": [
        "from sklearn.feature_extraction.text import CountVectorizer , TfidfVectorizer\n",
        "from keras.utils import to_categorical\n",
        "\n",
        "vectorizer = TfidfVectorizer(max_features = 3000,ngram_range=(1,1)) \n",
        "X = vectorizer.fit_transform(df[\"text\"]) \n",
        "Y = df['sentiment'] \n",
        " \n",
        "X_train = vectorizer.transform(X_train).toarray()\n",
        "Y_train = Y_train \n",
        "X_test = vectorizer.transform(X_test).toarray()\n",
        "Y_test = Y_test"
      ],
      "execution_count": 0,
      "outputs": []
    },
    {
      "cell_type": "code",
      "metadata": {
        "id": "0KpCquD4AwvR",
        "colab_type": "code",
        "outputId": "08c475ab-78e1-4c3f-9cfc-2aebda770e54",
        "colab": {
          "base_uri": "https://localhost:8080/",
          "height": 218
        }
      },
      "source": [
        "Y_test"
      ],
      "execution_count": 70,
      "outputs": [
        {
          "output_type": "execute_result",
          "data": {
            "text/plain": [
              "13510     3\n",
              "61932     3\n",
              "82549     1\n",
              "137718    3\n",
              "121990    1\n",
              "         ..\n",
              "94224     3\n",
              "135456    2\n",
              "154729    3\n",
              "23031     2\n",
              "57870     1\n",
              "Name: sentiment, Length: 46818, dtype: int64"
            ]
          },
          "metadata": {
            "tags": []
          },
          "execution_count": 70
        }
      ]
    },
    {
      "cell_type": "code",
      "metadata": {
        "id": "-p34AcyfA2VR",
        "colab_type": "code",
        "colab": {}
      },
      "source": [
        "import keras\n",
        "from keras.datasets import mnist\n",
        "from keras.models import Sequential\n",
        "from keras.layers import Dense, Dropout, Flatten\n",
        "from keras.layers import Conv1D, MaxPooling1D\n",
        "from keras import backend as K"
      ],
      "execution_count": 0,
      "outputs": []
    },
    {
      "cell_type": "code",
      "metadata": {
        "id": "d4blqyg4BBMW",
        "colab_type": "code",
        "colab": {}
      },
      "source": [
        "def recall_m(y_true, y_pred):\n",
        "    true_positives = K.sum(K.round(K.clip(y_true * y_pred, 0, 1)))\n",
        "    possible_positives = K.sum(K.round(K.clip(y_true, 0, 1)))\n",
        "    recall = true_positives / (possible_positives + K.epsilon())\n",
        "    return recall\n",
        "\n",
        "def precision_m(y_true, y_pred):\n",
        "    true_positives = K.sum(K.round(K.clip(y_true * y_pred, 0, 1)))\n",
        "    predicted_positives = K.sum(K.round(K.clip(y_pred, 0, 1)))\n",
        "    precision = true_positives / (predicted_positives + K.epsilon())\n",
        "    return precision\n",
        "\n",
        "def f1_m(y_true, y_pred):\n",
        "    precision = precision_m(y_true, y_pred)\n",
        "    recall = recall_m(y_true, y_pred)\n",
        "    return 2*((precision*recall)/(precision+recall+K.epsilon()))"
      ],
      "execution_count": 0,
      "outputs": []
    },
    {
      "cell_type": "code",
      "metadata": {
        "id": "ne6dkujDBC8o",
        "colab_type": "code",
        "outputId": "52ea02c5-3c1f-414b-825e-6e59dde5062d",
        "colab": {
          "base_uri": "https://localhost:8080/",
          "height": 34
        }
      },
      "source": [
        "batch_size = 64\n",
        "num_classes = 5\n",
        "epochs = 5\n",
        "X_train.shape"
      ],
      "execution_count": 73,
      "outputs": [
        {
          "output_type": "execute_result",
          "data": {
            "text/plain": [
              "(109242, 3000)"
            ]
          },
          "metadata": {
            "tags": []
          },
          "execution_count": 73
        }
      ]
    },
    {
      "cell_type": "code",
      "metadata": {
        "id": "eNnbypRyBOFj",
        "colab_type": "code",
        "outputId": "d550afb7-5c39-4a22-89a7-a4e6a0aa6a0b",
        "colab": {
          "base_uri": "https://localhost:8080/",
          "height": 134
        }
      },
      "source": [
        "Y_train = keras.utils.to_categorical(Y_train, num_classes)\n",
        "Y_test = keras.utils.to_categorical(Y_test, num_classes)\n",
        "Y_test"
      ],
      "execution_count": 74,
      "outputs": [
        {
          "output_type": "execute_result",
          "data": {
            "text/plain": [
              "array([[0., 0., 0., 1., 0.],\n",
              "       [0., 0., 0., 1., 0.],\n",
              "       [0., 1., 0., 0., 0.],\n",
              "       ...,\n",
              "       [0., 0., 0., 1., 0.],\n",
              "       [0., 0., 1., 0., 0.],\n",
              "       [0., 1., 0., 0., 0.]], dtype=float32)"
            ]
          },
          "metadata": {
            "tags": []
          },
          "execution_count": 74
        }
      ]
    },
    {
      "cell_type": "code",
      "metadata": {
        "id": "t-06BtwVBZc0",
        "colab_type": "code",
        "colab": {}
      },
      "source": [
        "model = Sequential()\n",
        "model.add(Conv1D(filters=64, kernel_size=5,\n",
        "                 activation='relu',\n",
        "                 input_shape=(3000,1)))\n",
        "model.add(Conv1D(64, kernel_size=5, activation='relu'))\n",
        "model.add(MaxPooling1D(pool_size=1))\n",
        "model.add(Flatten())\n",
        "model.add(Dense(num_classes, activation='softmax'))"
      ],
      "execution_count": 0,
      "outputs": []
    },
    {
      "cell_type": "code",
      "metadata": {
        "id": "-pvz8-5YBe6M",
        "colab_type": "code",
        "outputId": "20698b41-fbab-41ad-fba6-b9b757966579",
        "colab": {
          "base_uri": "https://localhost:8080/",
          "height": 34
        }
      },
      "source": [
        "model.compile(loss=keras.losses.categorical_crossentropy,\n",
        "              optimizer=keras.optimizers.Adadelta(),\n",
        "              metrics=['accuracy',f1_m,precision_m, recall_m])\n",
        "X_test.shape[1]"
      ],
      "execution_count": 76,
      "outputs": [
        {
          "output_type": "execute_result",
          "data": {
            "text/plain": [
              "3000"
            ]
          },
          "metadata": {
            "tags": []
          },
          "execution_count": 76
        }
      ]
    },
    {
      "cell_type": "code",
      "metadata": {
        "id": "J9uqTJC2BhuI",
        "colab_type": "code",
        "outputId": "b464139f-609d-480b-c702-f96b0a026339",
        "colab": {
          "base_uri": "https://localhost:8080/",
          "height": 1000
        }
      },
      "source": [
        "X_train = X_train.reshape(X_train.shape[0], X_train.shape[1], 1)\n",
        "X_test = X_test.reshape(X_test.shape[0], X_test.shape[1], 1)\n",
        "hh= model.fit(X_train, Y_train,\n",
        "          batch_size=64,\n",
        "          epochs=30)\n",
        "model.save('/content/drive/My Drive/1105524_1dconv_reg.h5')\n",
        "test_loss, test_accuracy, test_f1_score, test_precision, test_recall = model.evaluate(X_test, Y_test, verbose=0)\n",
        "print('Test loss:', test_loss)\n",
        "print('Test accuracy:', test_accuracy)\n",
        "print('Test f1 score:', test_f1_score)\n",
        "print('Test precision:', test_precision)\n",
        "print('Test recall:', test_recall)"
      ],
      "execution_count": 77,
      "outputs": [
        {
          "output_type": "stream",
          "text": [
            "Epoch 1/30\n",
            "109242/109242 [==============================] - 26s 238us/step - loss: 1.1145 - acc: 0.5630 - f1_m: 0.4892 - precision_m: 0.6112 - recall_m: 0.4152\n",
            "Epoch 2/30\n",
            "109242/109242 [==============================] - 25s 230us/step - loss: 1.0079 - acc: 0.6070 - f1_m: 0.5713 - precision_m: 0.6656 - recall_m: 0.5020\n",
            "Epoch 3/30\n",
            "109242/109242 [==============================] - 25s 230us/step - loss: 0.9817 - acc: 0.6196 - f1_m: 0.5880 - precision_m: 0.6741 - recall_m: 0.5228\n",
            "Epoch 4/30\n",
            "109242/109242 [==============================] - 25s 230us/step - loss: 0.9679 - acc: 0.6248 - f1_m: 0.5955 - precision_m: 0.6777 - recall_m: 0.5326\n",
            "Epoch 5/30\n",
            "109242/109242 [==============================] - 25s 230us/step - loss: 0.9560 - acc: 0.6310 - f1_m: 0.6025 - precision_m: 0.6806 - recall_m: 0.5417\n",
            "Epoch 6/30\n",
            "109242/109242 [==============================] - 25s 230us/step - loss: 0.9469 - acc: 0.6339 - f1_m: 0.6089 - precision_m: 0.6836 - recall_m: 0.5500\n",
            "Epoch 7/30\n",
            "109242/109242 [==============================] - 25s 231us/step - loss: 0.9394 - acc: 0.6377 - f1_m: 0.6133 - precision_m: 0.6860 - recall_m: 0.5556\n",
            "Epoch 8/30\n",
            "109242/109242 [==============================] - 25s 231us/step - loss: 0.9333 - acc: 0.6401 - f1_m: 0.6166 - precision_m: 0.6871 - recall_m: 0.5603\n",
            "Epoch 9/30\n",
            "109242/109242 [==============================] - 25s 230us/step - loss: 0.9265 - acc: 0.6434 - f1_m: 0.6199 - precision_m: 0.6897 - recall_m: 0.5639\n",
            "Epoch 10/30\n",
            "109242/109242 [==============================] - 25s 231us/step - loss: 0.9219 - acc: 0.6451 - f1_m: 0.6220 - precision_m: 0.6901 - recall_m: 0.5672\n",
            "Epoch 11/30\n",
            "109242/109242 [==============================] - 25s 231us/step - loss: 0.9192 - acc: 0.6464 - f1_m: 0.6243 - precision_m: 0.6909 - recall_m: 0.5704\n",
            "Epoch 12/30\n",
            "109242/109242 [==============================] - 25s 232us/step - loss: 0.9133 - acc: 0.6484 - f1_m: 0.6275 - precision_m: 0.6919 - recall_m: 0.5751\n",
            "Epoch 13/30\n",
            "109242/109242 [==============================] - 25s 231us/step - loss: 0.9086 - acc: 0.6504 - f1_m: 0.6293 - precision_m: 0.6926 - recall_m: 0.5775\n",
            "Epoch 14/30\n",
            "109242/109242 [==============================] - 25s 231us/step - loss: 0.9050 - acc: 0.6520 - f1_m: 0.6323 - precision_m: 0.6958 - recall_m: 0.5805\n",
            "Epoch 15/30\n",
            "109242/109242 [==============================] - 25s 231us/step - loss: 0.9010 - acc: 0.6540 - f1_m: 0.6349 - precision_m: 0.6960 - recall_m: 0.5846\n",
            "Epoch 16/30\n",
            "109242/109242 [==============================] - 25s 231us/step - loss: 0.8981 - acc: 0.6563 - f1_m: 0.6369 - precision_m: 0.6975 - recall_m: 0.5869\n",
            "Epoch 17/30\n",
            "109242/109242 [==============================] - 25s 230us/step - loss: 0.8948 - acc: 0.6581 - f1_m: 0.6388 - precision_m: 0.6986 - recall_m: 0.5894\n",
            "Epoch 18/30\n",
            "109242/109242 [==============================] - 25s 233us/step - loss: 0.8920 - acc: 0.6601 - f1_m: 0.6409 - precision_m: 0.7000 - recall_m: 0.5919\n",
            "Epoch 19/30\n",
            "109242/109242 [==============================] - 25s 233us/step - loss: 0.8887 - acc: 0.6605 - f1_m: 0.6420 - precision_m: 0.7007 - recall_m: 0.5933\n",
            "Epoch 20/30\n",
            "109242/109242 [==============================] - 25s 232us/step - loss: 0.8855 - acc: 0.6621 - f1_m: 0.6446 - precision_m: 0.7019 - recall_m: 0.5967\n",
            "Epoch 21/30\n",
            "109242/109242 [==============================] - 25s 232us/step - loss: 0.8822 - acc: 0.6629 - f1_m: 0.6455 - precision_m: 0.7031 - recall_m: 0.5975\n",
            "Epoch 22/30\n",
            "109242/109242 [==============================] - 25s 232us/step - loss: 0.8792 - acc: 0.6652 - f1_m: 0.6464 - precision_m: 0.7037 - recall_m: 0.5987\n",
            "Epoch 23/30\n",
            "109242/109242 [==============================] - 25s 233us/step - loss: 0.8759 - acc: 0.6658 - f1_m: 0.6489 - precision_m: 0.7054 - recall_m: 0.6016\n",
            "Epoch 24/30\n",
            "109242/109242 [==============================] - 26s 234us/step - loss: 0.8743 - acc: 0.6676 - f1_m: 0.6495 - precision_m: 0.7057 - recall_m: 0.6025\n",
            "Epoch 25/30\n",
            "109242/109242 [==============================] - 25s 232us/step - loss: 0.8712 - acc: 0.6691 - f1_m: 0.6514 - precision_m: 0.7073 - recall_m: 0.6045\n",
            "Epoch 26/30\n",
            "109242/109242 [==============================] - 25s 232us/step - loss: 0.8697 - acc: 0.6684 - f1_m: 0.6516 - precision_m: 0.7069 - recall_m: 0.6051\n",
            "Epoch 27/30\n",
            "109242/109242 [==============================] - 25s 231us/step - loss: 0.8670 - acc: 0.6708 - f1_m: 0.6535 - precision_m: 0.7086 - recall_m: 0.6071\n",
            "Epoch 28/30\n",
            "109242/109242 [==============================] - 25s 232us/step - loss: 0.8651 - acc: 0.6721 - f1_m: 0.6544 - precision_m: 0.7087 - recall_m: 0.6087\n",
            "Epoch 29/30\n",
            "109242/109242 [==============================] - 25s 231us/step - loss: 0.8637 - acc: 0.6723 - f1_m: 0.6566 - precision_m: 0.7108 - recall_m: 0.6109\n",
            "Epoch 30/30\n",
            "109242/109242 [==============================] - 25s 232us/step - loss: 0.8624 - acc: 0.6732 - f1_m: 0.6564 - precision_m: 0.7100 - recall_m: 0.6112\n",
            "Test loss: 0.9997733558042631\n",
            "Test accuracy: 0.62320047844846\n",
            "Test f1 score: 0.6037681600667517\n",
            "Test precision: 0.6616703046932088\n",
            "Test recall: 0.5566662394805417\n"
          ],
          "name": "stdout"
        }
      ]
    },
    {
      "cell_type": "code",
      "metadata": {
        "id": "4BFoFlGMd1GK",
        "colab_type": "code",
        "outputId": "8386ff87-bf2c-4634-cdbf-7a5de3e55efa",
        "colab": {
          "base_uri": "https://localhost:8080/",
          "height": 101
        }
      },
      "source": [
        "from keras.models import load_model\n",
        "model = load_model('/content/drive/My Drive/1105524_1dconv_reg.h5', \n",
        "                   custom_objects = {'f1_m': f1_m,  'precision_m': precision_m, 'recall_m' : recall_m})\n",
        "\n",
        "test_loss, test_accuracy, test_f1_score, test_precision, test_recall = model.evaluate(X_test, Y_test, verbose=0)\n",
        "print('Test loss:', test_loss)\n",
        "print('Test accuracy:', test_accuracy)\n",
        "print('Test f1 score:', test_f1_score)\n",
        "print('Test precision:', test_precision)\n",
        "print('Test recall:', test_recall)"
      ],
      "execution_count": 78,
      "outputs": [
        {
          "output_type": "stream",
          "text": [
            "Test loss: 0.9997733558042631\n",
            "Test accuracy: 0.62320047844846\n",
            "Test f1 score: 0.6037681600667517\n",
            "Test precision: 0.6616703046932088\n",
            "Test recall: 0.5566662394805417\n"
          ],
          "name": "stdout"
        }
      ]
    }
  ]
}